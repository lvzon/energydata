{
 "metadata": {
  "name": "",
  "signature": "sha256:bf74bf8b5ed15ee15794a576876dda9c69301f53b5ad812b0071ddd3c5bbbaf3"
 },
 "nbformat": 3,
 "nbformat_minor": 0,
 "worksheets": [
  {
   "cells": [
    {
     "cell_type": "code",
     "collapsed": false,
     "input": [
      "# Import Pandas for data analysis\n",
      "from pandas import Series, DataFrame\n",
      "import pandas as pd"
     ],
     "language": "python",
     "metadata": {},
     "outputs": [],
     "prompt_number": 1
    },
    {
     "cell_type": "code",
     "collapsed": false,
     "input": [
      "# Download BP statistical review 2016\n",
      "!wget -c 'http://www.bp.com/content/dam/bp/excel/energy-economics/statistical-review-2016/bp-statistical-review-of-world-energy-2016-workbook.xlsx'"
     ],
     "language": "python",
     "metadata": {},
     "outputs": [
      {
       "output_type": "stream",
       "stream": "stdout",
       "text": [
        "--2017-02-16 12:03:11--  http://www.bp.com/content/dam/bp/excel/energy-economics/statistical-review-2016/bp-statistical-review-of-world-energy-2016-workbook.xlsx\r\n",
        "Resolving www.bp.com (www.bp.com)... "
       ]
      },
      {
       "output_type": "stream",
       "stream": "stdout",
       "text": [
        "2.20.175.123\r\n",
        "Connecting to www.bp.com (www.bp.com)|2.20.175.123|:80... "
       ]
      },
      {
       "output_type": "stream",
       "stream": "stdout",
       "text": [
        "connected.\r\n",
        "HTTP request sent, awaiting response... "
       ]
      },
      {
       "output_type": "stream",
       "stream": "stdout",
       "text": [
        "200 OK\r\n",
        "Length: 1888803 (1,8M) [application/vnd.openxmlformats-officedocument.spreadsheetml.sheet]\r\n",
        "Saving to: \u2018bp-statistical-review-of-world-energy-2016-workbook.xlsx\u2019\r\n",
        "\r\n",
        "\r",
        "          bp-statis   0%[                    ]       0  --.-KB/s               "
       ]
      },
      {
       "output_type": "stream",
       "stream": "stdout",
       "text": [
        "\r",
        "         bp-statist   0%[                    ]  17,93K  44,4KB/s               "
       ]
      },
      {
       "output_type": "stream",
       "stream": "stdout",
       "text": [
        "\r",
        "        bp-statisti   2%[                    ]  54,70K  86,3KB/s               "
       ]
      },
      {
       "output_type": "stream",
       "stream": "stdout",
       "text": [
        "\r",
        "       bp-statistic   5%[>                   ]  96,50K   115KB/s               "
       ]
      },
      {
       "output_type": "stream",
       "stream": "stdout",
       "text": [
        "\r",
        "      bp-statistica   6%[>                   ] 118,64K   108KB/s               "
       ]
      },
      {
       "output_type": "stream",
       "stream": "stdout",
       "text": [
        "\r",
        "     bp-statistical   9%[>                   ] 174,27K   134KB/s               "
       ]
      },
      {
       "output_type": "stream",
       "stream": "stdout",
       "text": [
        "\r",
        "    bp-statistical-  11%[=>                  ] 206,79K   137KB/s               "
       ]
      },
      {
       "output_type": "stream",
       "stream": "stdout",
       "text": [
        "\r",
        "   bp-statistical-r  12%[=>                  ] 235,07K   138KB/s               "
       ]
      },
      {
       "output_type": "stream",
       "stream": "stdout",
       "text": [
        "\r",
        "  bp-statistical-re  14%[=>                  ] 272,55K   129KB/s               "
       ]
      },
      {
       "output_type": "stream",
       "stream": "stdout",
       "text": [
        "\r",
        " bp-statistical-rev  18%[==>                 ] 342,32K   148KB/s               "
       ]
      },
      {
       "output_type": "stream",
       "stream": "stdout",
       "text": [
        "\r",
        "bp-statistical-revi  20%[===>                ] 378,76K   151KB/s               "
       ]
      },
      {
       "output_type": "stream",
       "stream": "stdout",
       "text": [
        "\r",
        "p-statistical-revie  22%[===>                ] 418,35K   154KB/s               "
       ]
      },
      {
       "output_type": "stream",
       "stream": "stdout",
       "text": [
        "\r",
        "-statistical-review  24%[===>                ] 456,53K   157KB/s               "
       ]
      },
      {
       "output_type": "stream",
       "stream": "stdout",
       "text": [
        "\r",
        "statistical-review-  27%[====>               ] 507,44K   163KB/s    eta 8s     "
       ]
      },
      {
       "output_type": "stream",
       "stream": "stdout",
       "text": [
        "\r",
        "tatistical-review-o  29%[====>               ] 549,20K   165KB/s    eta 8s     "
       ]
      },
      {
       "output_type": "stream",
       "stream": "stdout",
       "text": [
        "\r",
        "atistical-review-of  30%[=====>              ] 569,93K   158KB/s    eta 8s     "
       ]
      },
      {
       "output_type": "stream",
       "stream": "stdout",
       "text": [
        "\r",
        "tistical-review-of-  33%[=====>              ] 620,39K   161KB/s    eta 8s     "
       ]
      },
      {
       "output_type": "stream",
       "stream": "stdout",
       "text": [
        "\r",
        "istical-review-of-w  38%[======>             ] 701,48K   173KB/s    eta 8s     "
       ]
      },
      {
       "output_type": "stream",
       "stream": "stdout",
       "text": [
        "\r",
        "stical-review-of-wo  40%[=======>            ] 743,82K   175KB/s    eta 6s     "
       ]
      },
      {
       "output_type": "stream",
       "stream": "stdout",
       "text": [
        "\r",
        "tical-review-of-wor  42%[=======>            ] 783,42K   189KB/s    eta 6s     "
       ]
      },
      {
       "output_type": "stream",
       "stream": "stdout",
       "text": [
        "\r",
        "ical-review-of-worl  43%[=======>            ] 794,24K   182KB/s    eta 6s     "
       ]
      },
      {
       "output_type": "stream",
       "stream": "stdout",
       "text": [
        "\r",
        "cal-review-of-world  45%[========>           ] 843,78K   184KB/s    eta 6s     "
       ]
      },
      {
       "output_type": "stream",
       "stream": "stdout",
       "text": [
        "\r",
        "al-review-of-world-  50%[=========>          ] 929,63K   202KB/s    eta 6s     "
       ]
      },
      {
       "output_type": "stream",
       "stream": "stdout",
       "text": [
        "\r",
        "l-review-of-world-e  52%[=========>          ] 976,29K   201KB/s    eta 5s     "
       ]
      },
      {
       "output_type": "stream",
       "stream": "stdout",
       "text": [
        "\r",
        "-review-of-world-en  55%[==========>         ]   1021K   207KB/s    eta 5s     "
       ]
      },
      {
       "output_type": "stream",
       "stream": "stdout",
       "text": [
        "\r",
        "review-of-world-ene  58%[==========>         ]   1,04M   208KB/s    eta 5s     "
       ]
      },
      {
       "output_type": "stream",
       "stream": "stdout",
       "text": [
        "\r",
        "eview-of-world-ener  62%[===========>        ]   1,13M   214KB/s    eta 5s     "
       ]
      },
      {
       "output_type": "stream",
       "stream": "stdout",
       "text": [
        "\r",
        "view-of-world-energ  65%[============>       ]   1,17M   216KB/s    eta 3s     "
       ]
      },
      {
       "output_type": "stream",
       "stream": "stdout",
       "text": [
        "\r",
        "iew-of-world-energy  67%[============>       ]   1,21M   215KB/s    eta 3s     "
       ]
      },
      {
       "output_type": "stream",
       "stream": "stdout",
       "text": [
        "\r",
        "ew-of-world-energy-  69%[============>       ]   1,26M   215KB/s    eta 3s     "
       ]
      },
      {
       "output_type": "stream",
       "stream": "stdout",
       "text": [
        "\r",
        "w-of-world-energy-2  70%[=============>      ]   1,27M   208KB/s    eta 3s     "
       ]
      },
      {
       "output_type": "stream",
       "stream": "stdout",
       "text": [
        "\r",
        "-of-world-energy-20  76%[==============>     ]   1,37M   220KB/s    eta 3s     "
       ]
      },
      {
       "output_type": "stream",
       "stream": "stdout",
       "text": [
        "\r",
        "of-world-energy-201  78%[==============>     ]   1,42M   222KB/s    eta 2s     "
       ]
      },
      {
       "output_type": "stream",
       "stream": "stdout",
       "text": [
        "\r",
        "f-world-energy-2016  81%[===============>    ]   1,46M   232KB/s    eta 2s     "
       ]
      },
      {
       "output_type": "stream",
       "stream": "stdout",
       "text": [
        "\r",
        "-world-energy-2016-  83%[===============>    ]   1,51M   225KB/s    eta 2s     "
       ]
      },
      {
       "output_type": "stream",
       "stream": "stdout",
       "text": [
        "\r",
        "world-energy-2016-w  86%[================>   ]   1,55M   225KB/s    eta 2s     "
       ]
      },
      {
       "output_type": "stream",
       "stream": "stdout",
       "text": [
        "\r",
        "orld-energy-2016-wo  87%[================>   ]   1,58M   215KB/s    eta 2s     "
       ]
      },
      {
       "output_type": "stream",
       "stream": "stdout",
       "text": [
        "\r",
        "rld-energy-2016-wor  93%[=================>  ]   1,68M   244KB/s    eta 1s     "
       ]
      },
      {
       "output_type": "stream",
       "stream": "stdout",
       "text": [
        "\r",
        "ld-energy-2016-work  96%[==================> ]   1,73M   244KB/s    eta 1s     "
       ]
      },
      {
       "output_type": "stream",
       "stream": "stdout",
       "text": [
        "\r",
        "d-energy-2016-workb  98%[==================> ]   1,78M   227KB/s    eta 1s     "
       ]
      },
      {
       "output_type": "stream",
       "stream": "stdout",
       "text": [
        "\r",
        "bp-statistical-revi 100%[===================>]   1,80M   228KB/s    in 9,2s    \r\n",
        "\r\n",
        "2017-02-16 12:03:20 (202 KB/s) - \u2018bp-statistical-review-of-world-energy-2016-workbook.xlsx\u2019 saved [1888803/1888803]\r\n",
        "\r\n"
       ]
      }
     ],
     "prompt_number": 2
    },
    {
     "cell_type": "code",
     "collapsed": false,
     "input": [
      "# Load BP statistical review 2016 Excel-workbook\n",
      "file_bpstat = pd.ExcelFile('bp-statistical-review-of-world-energy-2016-workbook.xlsx')"
     ],
     "language": "python",
     "metadata": {},
     "outputs": [],
     "prompt_number": 2
    },
    {
     "cell_type": "code",
     "collapsed": false,
     "input": [
      "# Get table: Oil-prices 1861-2015 in US dollars per barrel\n",
      "table_oilprice = file_bpstat.parse('Oil - Crude prices since 1861', header=1, skiprows=2).set_index('Year').dropna()\n",
      "table_oilprice.index.name = 'year'"
     ],
     "language": "python",
     "metadata": {},
     "outputs": [],
     "prompt_number": 3
    },
    {
     "cell_type": "code",
     "collapsed": false,
     "input": [
      "# Examine table\n",
      "table_oilprice"
     ],
     "language": "python",
     "metadata": {},
     "outputs": [
      {
       "html": [
        "<div style=\"max-width:1500px;overflow:auto;\">\n",
        "<table border=\"1\" class=\"dataframe\">\n",
        "  <thead>\n",
        "    <tr style=\"text-align: right;\">\n",
        "      <th></th>\n",
        "      <th>$ money of the day</th>\n",
        "      <th>$ 2015</th>\n",
        "    </tr>\n",
        "    <tr>\n",
        "      <th>year</th>\n",
        "      <th></th>\n",
        "      <th></th>\n",
        "    </tr>\n",
        "  </thead>\n",
        "  <tbody>\n",
        "    <tr>\n",
        "      <th>1861</th>\n",
        "      <td>0.490000</td>\n",
        "      <td>12.873585</td>\n",
        "    </tr>\n",
        "    <tr>\n",
        "      <th>1862</th>\n",
        "      <td>1.050000</td>\n",
        "      <td>24.827629</td>\n",
        "    </tr>\n",
        "    <tr>\n",
        "      <th>1863</th>\n",
        "      <td>3.150000</td>\n",
        "      <td>60.391530</td>\n",
        "    </tr>\n",
        "    <tr>\n",
        "      <th>1864</th>\n",
        "      <td>8.060000</td>\n",
        "      <td>121.647836</td>\n",
        "    </tr>\n",
        "    <tr>\n",
        "      <th>1865</th>\n",
        "      <td>6.590000</td>\n",
        "      <td>101.623650</td>\n",
        "    </tr>\n",
        "    <tr>\n",
        "      <th>1866</th>\n",
        "      <td>3.740000</td>\n",
        "      <td>60.295671</td>\n",
        "    </tr>\n",
        "    <tr>\n",
        "      <th>1867</th>\n",
        "      <td>2.410000</td>\n",
        "      <td>40.703800</td>\n",
        "    </tr>\n",
        "    <tr>\n",
        "      <th>1868</th>\n",
        "      <td>3.630000</td>\n",
        "      <td>64.374495</td>\n",
        "    </tr>\n",
        "    <tr>\n",
        "      <th>1869</th>\n",
        "      <td>3.640000</td>\n",
        "      <td>64.551836</td>\n",
        "    </tr>\n",
        "    <tr>\n",
        "      <th>1870</th>\n",
        "      <td>3.860000</td>\n",
        "      <td>72.056127</td>\n",
        "    </tr>\n",
        "    <tr>\n",
        "      <th>1871</th>\n",
        "      <td>4.340000</td>\n",
        "      <td>85.517389</td>\n",
        "    </tr>\n",
        "    <tr>\n",
        "      <th>1872</th>\n",
        "      <td>3.640000</td>\n",
        "      <td>71.724262</td>\n",
        "    </tr>\n",
        "    <tr>\n",
        "      <th>1873</th>\n",
        "      <td>1.830000</td>\n",
        "      <td>36.059176</td>\n",
        "    </tr>\n",
        "    <tr>\n",
        "      <th>1874</th>\n",
        "      <td>1.170000</td>\n",
        "      <td>24.410358</td>\n",
        "    </tr>\n",
        "    <tr>\n",
        "      <th>1875</th>\n",
        "      <td>1.350000</td>\n",
        "      <td>29.019307</td>\n",
        "    </tr>\n",
        "    <tr>\n",
        "      <th>1876</th>\n",
        "      <td>2.560000</td>\n",
        "      <td>56.748867</td>\n",
        "    </tr>\n",
        "    <tr>\n",
        "      <th>1877</th>\n",
        "      <td>2.420000</td>\n",
        "      <td>53.645413</td>\n",
        "    </tr>\n",
        "    <tr>\n",
        "      <th>1878</th>\n",
        "      <td>1.190000</td>\n",
        "      <td>29.108255</td>\n",
        "    </tr>\n",
        "    <tr>\n",
        "      <th>1879</th>\n",
        "      <td>0.860000</td>\n",
        "      <td>21.787511</td>\n",
        "    </tr>\n",
        "    <tr>\n",
        "      <th>1880</th>\n",
        "      <td>0.950000</td>\n",
        "      <td>23.237682</td>\n",
        "    </tr>\n",
        "    <tr>\n",
        "      <th>1881</th>\n",
        "      <td>0.860000</td>\n",
        "      <td>21.036218</td>\n",
        "    </tr>\n",
        "    <tr>\n",
        "      <th>1882</th>\n",
        "      <td>0.780000</td>\n",
        "      <td>19.079360</td>\n",
        "    </tr>\n",
        "    <tr>\n",
        "      <th>1883</th>\n",
        "      <td>1.000000</td>\n",
        "      <td>25.334315</td>\n",
        "    </tr>\n",
        "    <tr>\n",
        "      <th>1884</th>\n",
        "      <td>0.840000</td>\n",
        "      <td>22.069004</td>\n",
        "    </tr>\n",
        "    <tr>\n",
        "      <th>1885</th>\n",
        "      <td>0.880000</td>\n",
        "      <td>23.119909</td>\n",
        "    </tr>\n",
        "    <tr>\n",
        "      <th>1886</th>\n",
        "      <td>0.710000</td>\n",
        "      <td>18.653563</td>\n",
        "    </tr>\n",
        "    <tr>\n",
        "      <th>1887</th>\n",
        "      <td>0.670000</td>\n",
        "      <td>17.602658</td>\n",
        "    </tr>\n",
        "    <tr>\n",
        "      <th>1888</th>\n",
        "      <td>0.880000</td>\n",
        "      <td>23.119909</td>\n",
        "    </tr>\n",
        "    <tr>\n",
        "      <th>1889</th>\n",
        "      <td>0.940000</td>\n",
        "      <td>24.696266</td>\n",
        "    </tr>\n",
        "    <tr>\n",
        "      <th>1890</th>\n",
        "      <td>0.870000</td>\n",
        "      <td>22.857182</td>\n",
        "    </tr>\n",
        "    <tr>\n",
        "      <th>...</th>\n",
        "      <td>...</td>\n",
        "      <td>...</td>\n",
        "    </tr>\n",
        "    <tr>\n",
        "      <th>1986</th>\n",
        "      <td>14.430000</td>\n",
        "      <td>31.205797</td>\n",
        "    </tr>\n",
        "    <tr>\n",
        "      <th>1987</th>\n",
        "      <td>18.435039</td>\n",
        "      <td>38.463184</td>\n",
        "    </tr>\n",
        "    <tr>\n",
        "      <th>1988</th>\n",
        "      <td>14.923842</td>\n",
        "      <td>29.900289</td>\n",
        "    </tr>\n",
        "    <tr>\n",
        "      <th>1989</th>\n",
        "      <td>18.226113</td>\n",
        "      <td>34.837893</td>\n",
        "    </tr>\n",
        "    <tr>\n",
        "      <th>1990</th>\n",
        "      <td>23.725820</td>\n",
        "      <td>43.025423</td>\n",
        "    </tr>\n",
        "    <tr>\n",
        "      <th>1991</th>\n",
        "      <td>20.000914</td>\n",
        "      <td>34.810149</td>\n",
        "    </tr>\n",
        "    <tr>\n",
        "      <th>1992</th>\n",
        "      <td>19.320837</td>\n",
        "      <td>32.639820</td>\n",
        "    </tr>\n",
        "    <tr>\n",
        "      <th>1993</th>\n",
        "      <td>16.971634</td>\n",
        "      <td>27.837826</td>\n",
        "    </tr>\n",
        "    <tr>\n",
        "      <th>1994</th>\n",
        "      <td>15.817626</td>\n",
        "      <td>25.296711</td>\n",
        "    </tr>\n",
        "    <tr>\n",
        "      <th>1995</th>\n",
        "      <td>17.016680</td>\n",
        "      <td>26.464845</td>\n",
        "    </tr>\n",
        "    <tr>\n",
        "      <th>1996</th>\n",
        "      <td>20.668488</td>\n",
        "      <td>31.222327</td>\n",
        "    </tr>\n",
        "    <tr>\n",
        "      <th>1997</th>\n",
        "      <td>19.092588</td>\n",
        "      <td>28.194815</td>\n",
        "    </tr>\n",
        "    <tr>\n",
        "      <th>1998</th>\n",
        "      <td>12.715661</td>\n",
        "      <td>18.489742</td>\n",
        "    </tr>\n",
        "    <tr>\n",
        "      <th>1999</th>\n",
        "      <td>17.970078</td>\n",
        "      <td>25.565510</td>\n",
        "    </tr>\n",
        "    <tr>\n",
        "      <th>2000</th>\n",
        "      <td>28.495449</td>\n",
        "      <td>39.221289</td>\n",
        "    </tr>\n",
        "    <tr>\n",
        "      <th>2001</th>\n",
        "      <td>24.443891</td>\n",
        "      <td>32.713821</td>\n",
        "    </tr>\n",
        "    <tr>\n",
        "      <th>2002</th>\n",
        "      <td>25.023256</td>\n",
        "      <td>32.967966</td>\n",
        "    </tr>\n",
        "    <tr>\n",
        "      <th>2003</th>\n",
        "      <td>28.830703</td>\n",
        "      <td>37.137863</td>\n",
        "    </tr>\n",
        "    <tr>\n",
        "      <th>2004</th>\n",
        "      <td>38.265000</td>\n",
        "      <td>48.011940</td>\n",
        "    </tr>\n",
        "    <tr>\n",
        "      <th>2005</th>\n",
        "      <td>54.521089</td>\n",
        "      <td>66.167051</td>\n",
        "    </tr>\n",
        "    <tr>\n",
        "      <th>2006</th>\n",
        "      <td>65.144062</td>\n",
        "      <td>76.588543</td>\n",
        "    </tr>\n",
        "    <tr>\n",
        "      <th>2007</th>\n",
        "      <td>72.389078</td>\n",
        "      <td>82.749478</td>\n",
        "    </tr>\n",
        "    <tr>\n",
        "      <th>2008</th>\n",
        "      <td>97.255973</td>\n",
        "      <td>107.064550</td>\n",
        "    </tr>\n",
        "    <tr>\n",
        "      <th>2009</th>\n",
        "      <td>61.671265</td>\n",
        "      <td>68.133414</td>\n",
        "    </tr>\n",
        "    <tr>\n",
        "      <th>2010</th>\n",
        "      <td>79.495534</td>\n",
        "      <td>86.408046</td>\n",
        "    </tr>\n",
        "    <tr>\n",
        "      <th>2011</th>\n",
        "      <td>111.255598</td>\n",
        "      <td>117.229418</td>\n",
        "    </tr>\n",
        "    <tr>\n",
        "      <th>2012</th>\n",
        "      <td>111.669702</td>\n",
        "      <td>115.280094</td>\n",
        "    </tr>\n",
        "    <tr>\n",
        "      <th>2013</th>\n",
        "      <td>108.658518</td>\n",
        "      <td>110.552230</td>\n",
        "    </tr>\n",
        "    <tr>\n",
        "      <th>2014</th>\n",
        "      <td>98.946008</td>\n",
        "      <td>99.063454</td>\n",
        "    </tr>\n",
        "    <tr>\n",
        "      <th>2015</th>\n",
        "      <td>52.386759</td>\n",
        "      <td>52.386759</td>\n",
        "    </tr>\n",
        "  </tbody>\n",
        "</table>\n",
        "<p>155 rows \u00d7 2 columns</p>\n",
        "</div>"
       ],
       "metadata": {},
       "output_type": "pyout",
       "prompt_number": 4,
       "text": [
        "      $ money of the day      $ 2015\n",
        "year                                \n",
        "1861            0.490000   12.873585\n",
        "1862            1.050000   24.827629\n",
        "1863            3.150000   60.391530\n",
        "1864            8.060000  121.647836\n",
        "1865            6.590000  101.623650\n",
        "1866            3.740000   60.295671\n",
        "1867            2.410000   40.703800\n",
        "1868            3.630000   64.374495\n",
        "1869            3.640000   64.551836\n",
        "1870            3.860000   72.056127\n",
        "1871            4.340000   85.517389\n",
        "1872            3.640000   71.724262\n",
        "1873            1.830000   36.059176\n",
        "1874            1.170000   24.410358\n",
        "1875            1.350000   29.019307\n",
        "1876            2.560000   56.748867\n",
        "1877            2.420000   53.645413\n",
        "1878            1.190000   29.108255\n",
        "1879            0.860000   21.787511\n",
        "1880            0.950000   23.237682\n",
        "1881            0.860000   21.036218\n",
        "1882            0.780000   19.079360\n",
        "1883            1.000000   25.334315\n",
        "1884            0.840000   22.069004\n",
        "1885            0.880000   23.119909\n",
        "1886            0.710000   18.653563\n",
        "1887            0.670000   17.602658\n",
        "1888            0.880000   23.119909\n",
        "1889            0.940000   24.696266\n",
        "1890            0.870000   22.857182\n",
        "...                  ...         ...\n",
        "1986           14.430000   31.205797\n",
        "1987           18.435039   38.463184\n",
        "1988           14.923842   29.900289\n",
        "1989           18.226113   34.837893\n",
        "1990           23.725820   43.025423\n",
        "1991           20.000914   34.810149\n",
        "1992           19.320837   32.639820\n",
        "1993           16.971634   27.837826\n",
        "1994           15.817626   25.296711\n",
        "1995           17.016680   26.464845\n",
        "1996           20.668488   31.222327\n",
        "1997           19.092588   28.194815\n",
        "1998           12.715661   18.489742\n",
        "1999           17.970078   25.565510\n",
        "2000           28.495449   39.221289\n",
        "2001           24.443891   32.713821\n",
        "2002           25.023256   32.967966\n",
        "2003           28.830703   37.137863\n",
        "2004           38.265000   48.011940\n",
        "2005           54.521089   66.167051\n",
        "2006           65.144062   76.588543\n",
        "2007           72.389078   82.749478\n",
        "2008           97.255973  107.064550\n",
        "2009           61.671265   68.133414\n",
        "2010           79.495534   86.408046\n",
        "2011          111.255598  117.229418\n",
        "2012          111.669702  115.280094\n",
        "2013          108.658518  110.552230\n",
        "2014           98.946008   99.063454\n",
        "2015           52.386759   52.386759\n",
        "\n",
        "[155 rows x 2 columns]"
       ]
      }
     ],
     "prompt_number": 4
    },
    {
     "cell_type": "code",
     "collapsed": false,
     "input": [
      "# Conversion factors for barrel of crude oil to litres and kWh\n",
      "L_per_barrel = 158.987\n",
      "kWh_per_barrel = 1628.2"
     ],
     "language": "python",
     "metadata": {},
     "outputs": [],
     "prompt_number": 5
    },
    {
     "cell_type": "code",
     "collapsed": false,
     "input": [
      "# Create a data series of oil-price per litre\n",
      "oilprice_per_L = table_oilprice['$ 2015'] / L_per_barrel\n",
      "oilprice_per_L.name = 'dollars_per_L_2015'"
     ],
     "language": "python",
     "metadata": {},
     "outputs": [],
     "prompt_number": 6
    },
    {
     "cell_type": "code",
     "collapsed": false,
     "input": [
      "# Export data to CSV\n",
      "oilprice_per_L.to_csv('crude-oil-price-inflation-corrected.csv', sep='\\t', header=True)"
     ],
     "language": "python",
     "metadata": {},
     "outputs": [],
     "prompt_number": 7
    },
    {
     "cell_type": "code",
     "collapsed": false,
     "input": [
      "# Switch to inline plotting\n",
      "get_ipython().magic('pylab inline')"
     ],
     "language": "python",
     "metadata": {},
     "outputs": [
      {
       "output_type": "stream",
       "stream": "stdout",
       "text": [
        "Populating the interactive namespace from numpy and matplotlib\n"
       ]
      }
     ],
     "prompt_number": 9
    },
    {
     "cell_type": "code",
     "collapsed": false,
     "input": [
      "# Load matplotlib for data plotting/exploration\n",
      "import matplotlib\n",
      "matplotlib.style.use('ggplot')\n",
      "import matplotlib.pyplot as plt"
     ],
     "language": "python",
     "metadata": {},
     "outputs": [],
     "prompt_number": 10
    },
    {
     "cell_type": "code",
     "collapsed": false,
     "input": [
      "# Plot oil-price per litre, in 2015 US dollars\n",
      "oilprice_plot = oilprice_per_L.plot()\n",
      "oilprice_plot.set_ylabel('2015 US dollars per litre')"
     ],
     "language": "python",
     "metadata": {},
     "outputs": [
      {
       "metadata": {},
       "output_type": "pyout",
       "prompt_number": 11,
       "text": [
        "<matplotlib.text.Text at 0x7f3868e954e0>"
       ]
      },
      {
       "metadata": {},
       "output_type": "display_data",
       "png": "[encoded data removed]",
       "text": [
        "<matplotlib.figure.Figure at 0x7f3868ee0f98>"
       ]
      }
     ],
     "prompt_number": 11
    },
    {
     "cell_type": "code",
     "collapsed": false,
     "input": [
      "# Global oil price in real US dollars per kWh\n",
      "oilprice_per_kWh = table_oilprice['$ money of the day'] / kWh_per_barrel\n",
      "oilprice_per_kWh.name = 'crude oil ($ per kWh)'"
     ],
     "language": "python",
     "metadata": {},
     "outputs": [],
     "prompt_number": 12
    },
    {
     "cell_type": "code",
     "collapsed": false,
     "input": [
      "# Gas prices are a bit more complicated, as there seems to be no measure that accurately reflects historical global prices\n",
      "# See: http://www.bp.com/en/global/corporate/energy-economics/statistical-review-of-world-energy/natural-gas/natural-gas-prices.html\n",
      "# I will use the Henry Hub price in US dollars per million BTU, which seems to reflect US gas prices (but not necessarily global ones)\n",
      "\n",
      "table_gasprice = file_bpstat.parse('Gas - Prices ', header=1, skiprows=2, na_values='-',index_col=0)\n",
      "table_gasprice.index.name = 'year'\n",
      "gasprice_US_per_MBTU = pd.to_numeric(table_gasprice['US'], errors='coerce').dropna()"
     ],
     "language": "python",
     "metadata": {},
     "outputs": [],
     "prompt_number": 13
    },
    {
     "cell_type": "code",
     "collapsed": false,
     "input": [
      "# Conversion factor for million BTU to kWh\n",
      "kWh_per_MBTU = 293.07107"
     ],
     "language": "python",
     "metadata": {},
     "outputs": [],
     "prompt_number": 14
    },
    {
     "cell_type": "code",
     "collapsed": false,
     "input": [
      "# US natural gas price in US dollars per kWh \n",
      "gasprice_US_per_kWh = gasprice_US_per_MBTU / kWh_per_MBTU\n",
      "gasprice_US_per_kWh.name = 'US natural gas ($ per kWh)'"
     ],
     "language": "python",
     "metadata": {},
     "outputs": [],
     "prompt_number": 15
    },
    {
     "cell_type": "code",
     "collapsed": false,
     "input": [
      "# Coal prices are also not standardized globally, so I will use the US Central Appalachian coal spot price index\n",
      "\n",
      "table_coalprice = file_bpstat.parse('Coal - Prices', header=1, skiprows=0, na_values='-',index_col=0)\n",
      "table_coalprice.index.name = 'year'\n",
      "coalprice_US_per_tonne = table_coalprice['US Central Appalachian coal spot price index \u2021'].dropna()"
     ],
     "language": "python",
     "metadata": {},
     "outputs": [],
     "prompt_number": 16
    },
    {
     "cell_type": "code",
     "collapsed": false,
     "input": [
      "# Conversion factor for tonne to kWh\n",
      "# This figure assumes an average heat content of 20.5 million BTU per tonne of coal used in the US in the period 1987-2015\n",
      "# Source: EIA Monthly Energy Review, January 2017, appendix A5, http://www.eia.gov/totalenergy/data/monthly/#appendices\n",
      "# Source data in Excel: http://www.eia.gov/totalenergy/data/browser/xls.cfm?tbl=TA5&freq=a\n",
      "kWh_per_tonne = 20.5 * kWh_per_MBTU"
     ],
     "language": "python",
     "metadata": {},
     "outputs": [],
     "prompt_number": 17
    },
    {
     "cell_type": "code",
     "collapsed": false,
     "input": [
      "# US coal price in US dollars per kWh \n",
      "coalprice_US_per_kWh = coalprice_US_per_tonne / kWh_per_tonne\n",
      "coalprice_US_per_kWh.name = 'US coal ($ per kWh)'"
     ],
     "language": "python",
     "metadata": {},
     "outputs": [],
     "prompt_number": 18
    },
    {
     "cell_type": "code",
     "collapsed": false,
     "input": [
      "# Prices in US dollarcents per kWh for all three fuels in one handy table\n",
      "fuelprice_cents_per_kWh = pd.DataFrame({'crude oil':oilprice_per_kWh}) * 100\n",
      "fuelprice_cents_per_kWh['natural gas (US)'] = gasprice_US_per_kWh * 100\n",
      "fuelprice_cents_per_kWh['coal (US)'] = coalprice_US_per_kWh * 100\n",
      "fuelprice_cents_per_kWh.index = pd.to_numeric(fuelprice_cents_per_kWh.index)"
     ],
     "language": "python",
     "metadata": {},
     "outputs": [],
     "prompt_number": 19
    },
    {
     "cell_type": "code",
     "collapsed": false,
     "input": [
      "# Plot fuel-prices in real dollarcents per kWh\n",
      "fuelprice_fig = plt.figure(figsize=(10,6), dpi=100)\n",
      "fuelprice_ax = fuelprice_fig.add_subplot(1,1,1)\n",
      "fuelprice_cents_per_kWh.ix[1970:].plot(ax = fuelprice_ax)\n",
      "fuelprice_ax.set_ylabel('US dollarcents per kWh')"
     ],
     "language": "python",
     "metadata": {},
     "outputs": [
      {
       "metadata": {},
       "output_type": "pyout",
       "prompt_number": 24,
       "text": [
        "<matplotlib.text.Text at 0x7f385cdeef28>"
       ]
      },
      {
       "metadata": {},
       "output_type": "display_data",
       "png": "[encoded data removed]",
       "text": [
        "<matplotlib.figure.Figure at 0x7f385cdd4c88>"
       ]
      }
     ],
     "prompt_number": 24
    },
    {
     "cell_type": "code",
     "collapsed": false,
     "input": [
      "# Save plot as PNG and SVG\n",
      "fuelprice_fig.savefig('fuelprices-1970-2015.png')\n",
      "fuelprice_fig.savefig('fuelprices-1970-2015.svg')"
     ],
     "language": "python",
     "metadata": {},
     "outputs": [],
     "prompt_number": 25
    }
   ],
   "metadata": {}
  }
 ]
}