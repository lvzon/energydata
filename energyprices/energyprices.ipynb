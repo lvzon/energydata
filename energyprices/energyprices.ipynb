{
 "metadata": {
  "name": "",
  "signature": "sha256:b6aff60e87803c06c9fab745ee1cf917e4fabe12269fac59e2f8c9ab7beb3b72"
 },
 "nbformat": 3,
 "nbformat_minor": 0,
 "worksheets": [
  {
   "cells": [
    {
     "cell_type": "code",
     "collapsed": false,
     "input": [
      "# Import Pandas for data analysis\n",
      "from pandas import Series, DataFrame\n",
      "import pandas as pd"
     ],
     "language": "python",
     "metadata": {},
     "outputs": [],
     "prompt_number": 1
    },
    {
     "cell_type": "code",
     "collapsed": false,
     "input": [
      "# Download BP statistical review 2017\n",
      "!wget -N 'http://www.bp.com/content/dam/bp/en/corporate/excel/energy-economics/statistical-review-2017/bp-statistical-review-of-world-energy-2017-underpinning-data.xlsx'"
     ],
     "language": "python",
     "metadata": {},
     "outputs": [
      {
       "output_type": "stream",
       "stream": "stdout",
       "text": [
        "--2017-02-16 12:03:11--  http://www.bp.com/content/dam/bp/excel/energy-economics/statistical-review-2016/bp-statistical-review-of-world-energy-2016-workbook.xlsx\r\n",
        "Resolving www.bp.com (www.bp.com)... "
       ]
      },
      {
       "output_type": "stream",
       "stream": "stdout",
       "text": [
        "2.20.175.123\r\n",
        "Connecting to www.bp.com (www.bp.com)|2.20.175.123|:80... "
       ]
      },
      {
       "output_type": "stream",
       "stream": "stdout",
       "text": [
        "connected.\r\n",
        "HTTP request sent, awaiting response... "
       ]
      },
      {
       "output_type": "stream",
       "stream": "stdout",
       "text": [
        "200 OK\r\n",
        "Length: 1888803 (1,8M) [application/vnd.openxmlformats-officedocument.spreadsheetml.sheet]\r\n",
        "Saving to: \u2018bp-statistical-review-of-world-energy-2016-workbook.xlsx\u2019\r\n",
        "\r\n",
        "\r",
        "          bp-statis   0%[                    ]       0  --.-KB/s               "
       ]
      },
      {
       "output_type": "stream",
       "stream": "stdout",
       "text": [
        "\r",
        "         bp-statist   0%[                    ]  17,93K  44,4KB/s               "
       ]
      },
      {
       "output_type": "stream",
       "stream": "stdout",
       "text": [
        "\r",
        "        bp-statisti   2%[                    ]  54,70K  86,3KB/s               "
       ]
      },
      {
       "output_type": "stream",
       "stream": "stdout",
       "text": [
        "\r",
        "       bp-statistic   5%[>                   ]  96,50K   115KB/s               "
       ]
      },
      {
       "output_type": "stream",
       "stream": "stdout",
       "text": [
        "\r",
        "      bp-statistica   6%[>                   ] 118,64K   108KB/s               "
       ]
      },
      {
       "output_type": "stream",
       "stream": "stdout",
       "text": [
        "\r",
        "     bp-statistical   9%[>                   ] 174,27K   134KB/s               "
       ]
      },
      {
       "output_type": "stream",
       "stream": "stdout",
       "text": [
        "\r",
        "    bp-statistical-  11%[=>                  ] 206,79K   137KB/s               "
       ]
      },
      {
       "output_type": "stream",
       "stream": "stdout",
       "text": [
        "\r",
        "   bp-statistical-r  12%[=>                  ] 235,07K   138KB/s               "
       ]
      },
      {
       "output_type": "stream",
       "stream": "stdout",
       "text": [
        "\r",
        "  bp-statistical-re  14%[=>                  ] 272,55K   129KB/s               "
       ]
      },
      {
       "output_type": "stream",
       "stream": "stdout",
       "text": [
        "\r",
        " bp-statistical-rev  18%[==>                 ] 342,32K   148KB/s               "
       ]
      },
      {
       "output_type": "stream",
       "stream": "stdout",
       "text": [
        "\r",
        "bp-statistical-revi  20%[===>                ] 378,76K   151KB/s               "
       ]
      },
      {
       "output_type": "stream",
       "stream": "stdout",
       "text": [
        "\r",
        "p-statistical-revie  22%[===>                ] 418,35K   154KB/s               "
       ]
      },
      {
       "output_type": "stream",
       "stream": "stdout",
       "text": [
        "\r",
        "-statistical-review  24%[===>                ] 456,53K   157KB/s               "
       ]
      },
      {
       "output_type": "stream",
       "stream": "stdout",
       "text": [
        "\r",
        "statistical-review-  27%[====>               ] 507,44K   163KB/s    eta 8s     "
       ]
      },
      {
       "output_type": "stream",
       "stream": "stdout",
       "text": [
        "\r",
        "tatistical-review-o  29%[====>               ] 549,20K   165KB/s    eta 8s     "
       ]
      },
      {
       "output_type": "stream",
       "stream": "stdout",
       "text": [
        "\r",
        "atistical-review-of  30%[=====>              ] 569,93K   158KB/s    eta 8s     "
       ]
      },
      {
       "output_type": "stream",
       "stream": "stdout",
       "text": [
        "\r",
        "tistical-review-of-  33%[=====>              ] 620,39K   161KB/s    eta 8s     "
       ]
      },
      {
       "output_type": "stream",
       "stream": "stdout",
       "text": [
        "\r",
        "istical-review-of-w  38%[======>             ] 701,48K   173KB/s    eta 8s     "
       ]
      },
      {
       "output_type": "stream",
       "stream": "stdout",
       "text": [
        "\r",
        "stical-review-of-wo  40%[=======>            ] 743,82K   175KB/s    eta 6s     "
       ]
      },
      {
       "output_type": "stream",
       "stream": "stdout",
       "text": [
        "\r",
        "tical-review-of-wor  42%[=======>            ] 783,42K   189KB/s    eta 6s     "
       ]
      },
      {
       "output_type": "stream",
       "stream": "stdout",
       "text": [
        "\r",
        "ical-review-of-worl  43%[=======>            ] 794,24K   182KB/s    eta 6s     "
       ]
      },
      {
       "output_type": "stream",
       "stream": "stdout",
       "text": [
        "\r",
        "cal-review-of-world  45%[========>           ] 843,78K   184KB/s    eta 6s     "
       ]
      },
      {
       "output_type": "stream",
       "stream": "stdout",
       "text": [
        "\r",
        "al-review-of-world-  50%[=========>          ] 929,63K   202KB/s    eta 6s     "
       ]
      },
      {
       "output_type": "stream",
       "stream": "stdout",
       "text": [
        "\r",
        "l-review-of-world-e  52%[=========>          ] 976,29K   201KB/s    eta 5s     "
       ]
      },
      {
       "output_type": "stream",
       "stream": "stdout",
       "text": [
        "\r",
        "-review-of-world-en  55%[==========>         ]   1021K   207KB/s    eta 5s     "
       ]
      },
      {
       "output_type": "stream",
       "stream": "stdout",
       "text": [
        "\r",
        "review-of-world-ene  58%[==========>         ]   1,04M   208KB/s    eta 5s     "
       ]
      },
      {
       "output_type": "stream",
       "stream": "stdout",
       "text": [
        "\r",
        "eview-of-world-ener  62%[===========>        ]   1,13M   214KB/s    eta 5s     "
       ]
      },
      {
       "output_type": "stream",
       "stream": "stdout",
       "text": [
        "\r",
        "view-of-world-energ  65%[============>       ]   1,17M   216KB/s    eta 3s     "
       ]
      },
      {
       "output_type": "stream",
       "stream": "stdout",
       "text": [
        "\r",
        "iew-of-world-energy  67%[============>       ]   1,21M   215KB/s    eta 3s     "
       ]
      },
      {
       "output_type": "stream",
       "stream": "stdout",
       "text": [
        "\r",
        "ew-of-world-energy-  69%[============>       ]   1,26M   215KB/s    eta 3s     "
       ]
      },
      {
       "output_type": "stream",
       "stream": "stdout",
       "text": [
        "\r",
        "w-of-world-energy-2  70%[=============>      ]   1,27M   208KB/s    eta 3s     "
       ]
      },
      {
       "output_type": "stream",
       "stream": "stdout",
       "text": [
        "\r",
        "-of-world-energy-20  76%[==============>     ]   1,37M   220KB/s    eta 3s     "
       ]
      },
      {
       "output_type": "stream",
       "stream": "stdout",
       "text": [
        "\r",
        "of-world-energy-201  78%[==============>     ]   1,42M   222KB/s    eta 2s     "
       ]
      },
      {
       "output_type": "stream",
       "stream": "stdout",
       "text": [
        "\r",
        "f-world-energy-2016  81%[===============>    ]   1,46M   232KB/s    eta 2s     "
       ]
      },
      {
       "output_type": "stream",
       "stream": "stdout",
       "text": [
        "\r",
        "-world-energy-2016-  83%[===============>    ]   1,51M   225KB/s    eta 2s     "
       ]
      },
      {
       "output_type": "stream",
       "stream": "stdout",
       "text": [
        "\r",
        "world-energy-2016-w  86%[================>   ]   1,55M   225KB/s    eta 2s     "
       ]
      },
      {
       "output_type": "stream",
       "stream": "stdout",
       "text": [
        "\r",
        "orld-energy-2016-wo  87%[================>   ]   1,58M   215KB/s    eta 2s     "
       ]
      },
      {
       "output_type": "stream",
       "stream": "stdout",
       "text": [
        "\r",
        "rld-energy-2016-wor  93%[=================>  ]   1,68M   244KB/s    eta 1s     "
       ]
      },
      {
       "output_type": "stream",
       "stream": "stdout",
       "text": [
        "\r",
        "ld-energy-2016-work  96%[==================> ]   1,73M   244KB/s    eta 1s     "
       ]
      },
      {
       "output_type": "stream",
       "stream": "stdout",
       "text": [
        "\r",
        "d-energy-2016-workb  98%[==================> ]   1,78M   227KB/s    eta 1s     "
       ]
      },
      {
       "output_type": "stream",
       "stream": "stdout",
       "text": [
        "\r",
        "bp-statistical-revi 100%[===================>]   1,80M   228KB/s    in 9,2s    \r\n",
        "\r\n",
        "2017-02-16 12:03:20 (202 KB/s) - \u2018bp-statistical-review-of-world-energy-2016-workbook.xlsx\u2019 saved [1888803/1888803]\r\n",
        "\r\n"
       ]
      }
     ],
     "prompt_number": 2
    },
    {
     "cell_type": "code",
     "collapsed": false,
     "input": [
      "# Load BP statistical review 2017 Excel-workbook\n",
      "file_bpstat = pd.ExcelFile('bp-statistical-review-of-world-energy-2017-underpinning-data.xlsx')"
     ],
     "language": "python",
     "metadata": {},
     "outputs": [],
     "prompt_number": 3
    },
    {
     "cell_type": "code",
     "collapsed": false,
     "input": [
      "# Get table: Oil-prices 1861-2016 in US dollars per barrel\n",
      "table_oilprice = file_bpstat.parse('Oil - Crude prices since 1861', header=1, skiprows=2).set_index('Year').dropna()\n",
      "table_oilprice.index.name = 'year'"
     ],
     "language": "python",
     "metadata": {},
     "outputs": [],
     "prompt_number": 4
    },
    {
     "cell_type": "code",
     "collapsed": false,
     "input": [
      "# Examine table\n",
      "table_oilprice"
     ],
     "language": "python",
     "metadata": {},
     "outputs": [
      {
       "html": [
        "<div style=\"max-width:1500px;overflow:auto;\">\n",
        "<table border=\"1\" class=\"dataframe\">\n",
        "  <thead>\n",
        "    <tr style=\"text-align: right;\">\n",
        "      <th></th>\n",
        "      <th>$ money of the day</th>\n",
        "      <th>$ 2016</th>\n",
        "    </tr>\n",
        "    <tr>\n",
        "      <th>year</th>\n",
        "      <th></th>\n",
        "      <th></th>\n",
        "    </tr>\n",
        "  </thead>\n",
        "  <tbody>\n",
        "    <tr>\n",
        "      <th>1861</th>\n",
        "      <td>0.490000</td>\n",
        "      <td>13.035987</td>\n",
        "    </tr>\n",
        "    <tr>\n",
        "      <th>1862</th>\n",
        "      <td>1.050000</td>\n",
        "      <td>25.140833</td>\n",
        "    </tr>\n",
        "    <tr>\n",
        "      <th>1863</th>\n",
        "      <td>3.150000</td>\n",
        "      <td>61.153377</td>\n",
        "    </tr>\n",
        "    <tr>\n",
        "      <th>1864</th>\n",
        "      <td>8.060000</td>\n",
        "      <td>123.182439</td>\n",
        "    </tr>\n",
        "    <tr>\n",
        "      <th>1865</th>\n",
        "      <td>6.590000</td>\n",
        "      <td>102.905645</td>\n",
        "    </tr>\n",
        "    <tr>\n",
        "      <th>1866</th>\n",
        "      <td>3.740000</td>\n",
        "      <td>61.056308</td>\n",
        "    </tr>\n",
        "    <tr>\n",
        "      <th>1867</th>\n",
        "      <td>2.410000</td>\n",
        "      <td>41.217284</td>\n",
        "    </tr>\n",
        "    <tr>\n",
        "      <th>1868</th>\n",
        "      <td>3.630000</td>\n",
        "      <td>65.186588</td>\n",
        "    </tr>\n",
        "    <tr>\n",
        "      <th>1869</th>\n",
        "      <td>3.640000</td>\n",
        "      <td>65.366165</td>\n",
        "    </tr>\n",
        "    <tr>\n",
        "      <th>1870</th>\n",
        "      <td>3.860000</td>\n",
        "      <td>72.965124</td>\n",
        "    </tr>\n",
        "    <tr>\n",
        "      <th>1871</th>\n",
        "      <td>4.340000</td>\n",
        "      <td>86.596202</td>\n",
        "    </tr>\n",
        "    <tr>\n",
        "      <th>1872</th>\n",
        "      <td>3.640000</td>\n",
        "      <td>72.629073</td>\n",
        "    </tr>\n",
        "    <tr>\n",
        "      <th>1873</th>\n",
        "      <td>1.830000</td>\n",
        "      <td>36.514067</td>\n",
        "    </tr>\n",
        "    <tr>\n",
        "      <th>1874</th>\n",
        "      <td>1.170000</td>\n",
        "      <td>24.718298</td>\n",
        "    </tr>\n",
        "    <tr>\n",
        "      <th>1875</th>\n",
        "      <td>1.350000</td>\n",
        "      <td>29.385389</td>\n",
        "    </tr>\n",
        "    <tr>\n",
        "      <th>1876</th>\n",
        "      <td>2.560000</td>\n",
        "      <td>57.464761</td>\n",
        "    </tr>\n",
        "    <tr>\n",
        "      <th>1877</th>\n",
        "      <td>2.420000</td>\n",
        "      <td>54.322157</td>\n",
        "    </tr>\n",
        "    <tr>\n",
        "      <th>1878</th>\n",
        "      <td>1.190000</td>\n",
        "      <td>29.475459</td>\n",
        "    </tr>\n",
        "    <tr>\n",
        "      <th>1879</th>\n",
        "      <td>0.860000</td>\n",
        "      <td>22.062364</td>\n",
        "    </tr>\n",
        "    <tr>\n",
        "      <th>1880</th>\n",
        "      <td>0.950000</td>\n",
        "      <td>23.530829</td>\n",
        "    </tr>\n",
        "    <tr>\n",
        "      <th>1881</th>\n",
        "      <td>0.860000</td>\n",
        "      <td>21.301592</td>\n",
        "    </tr>\n",
        "    <tr>\n",
        "      <th>1882</th>\n",
        "      <td>0.780000</td>\n",
        "      <td>19.320049</td>\n",
        "    </tr>\n",
        "    <tr>\n",
        "      <th>1883</th>\n",
        "      <td>1.000000</td>\n",
        "      <td>25.653911</td>\n",
        "    </tr>\n",
        "    <tr>\n",
        "      <th>1884</th>\n",
        "      <td>0.840000</td>\n",
        "      <td>22.347407</td>\n",
        "    </tr>\n",
        "    <tr>\n",
        "      <th>1885</th>\n",
        "      <td>0.880000</td>\n",
        "      <td>23.411569</td>\n",
        "    </tr>\n",
        "    <tr>\n",
        "      <th>1886</th>\n",
        "      <td>0.710000</td>\n",
        "      <td>18.888880</td>\n",
        "    </tr>\n",
        "    <tr>\n",
        "      <th>1887</th>\n",
        "      <td>0.670000</td>\n",
        "      <td>17.824717</td>\n",
        "    </tr>\n",
        "    <tr>\n",
        "      <th>1888</th>\n",
        "      <td>0.880000</td>\n",
        "      <td>23.411569</td>\n",
        "    </tr>\n",
        "    <tr>\n",
        "      <th>1889</th>\n",
        "      <td>0.940000</td>\n",
        "      <td>25.007813</td>\n",
        "    </tr>\n",
        "    <tr>\n",
        "      <th>1890</th>\n",
        "      <td>0.870000</td>\n",
        "      <td>23.145529</td>\n",
        "    </tr>\n",
        "    <tr>\n",
        "      <th>...</th>\n",
        "      <td>...</td>\n",
        "      <td>...</td>\n",
        "    </tr>\n",
        "    <tr>\n",
        "      <th>1987</th>\n",
        "      <td>18.435039</td>\n",
        "      <td>38.948402</td>\n",
        "    </tr>\n",
        "    <tr>\n",
        "      <th>1988</th>\n",
        "      <td>14.923842</td>\n",
        "      <td>30.277485</td>\n",
        "    </tr>\n",
        "    <tr>\n",
        "      <th>1989</th>\n",
        "      <td>18.226113</td>\n",
        "      <td>35.277377</td>\n",
        "    </tr>\n",
        "    <tr>\n",
        "      <th>1990</th>\n",
        "      <td>23.725820</td>\n",
        "      <td>43.568194</td>\n",
        "    </tr>\n",
        "    <tr>\n",
        "      <th>1991</th>\n",
        "      <td>20.000914</td>\n",
        "      <td>35.249284</td>\n",
        "    </tr>\n",
        "    <tr>\n",
        "      <th>1992</th>\n",
        "      <td>19.320837</td>\n",
        "      <td>33.051575</td>\n",
        "    </tr>\n",
        "    <tr>\n",
        "      <th>1993</th>\n",
        "      <td>16.971634</td>\n",
        "      <td>28.189004</td>\n",
        "    </tr>\n",
        "    <tr>\n",
        "      <th>1994</th>\n",
        "      <td>15.817626</td>\n",
        "      <td>25.615832</td>\n",
        "    </tr>\n",
        "    <tr>\n",
        "      <th>1995</th>\n",
        "      <td>17.016680</td>\n",
        "      <td>26.798702</td>\n",
        "    </tr>\n",
        "    <tr>\n",
        "      <th>1996</th>\n",
        "      <td>20.668488</td>\n",
        "      <td>31.616201</td>\n",
        "    </tr>\n",
        "    <tr>\n",
        "      <th>1997</th>\n",
        "      <td>19.092588</td>\n",
        "      <td>28.550496</td>\n",
        "    </tr>\n",
        "    <tr>\n",
        "      <th>1998</th>\n",
        "      <td>12.715661</td>\n",
        "      <td>18.722992</td>\n",
        "    </tr>\n",
        "    <tr>\n",
        "      <th>1999</th>\n",
        "      <td>17.970078</td>\n",
        "      <td>25.888022</td>\n",
        "    </tr>\n",
        "    <tr>\n",
        "      <th>2000</th>\n",
        "      <td>28.495449</td>\n",
        "      <td>39.716070</td>\n",
        "    </tr>\n",
        "    <tr>\n",
        "      <th>2001</th>\n",
        "      <td>24.443891</td>\n",
        "      <td>33.126510</td>\n",
        "    </tr>\n",
        "    <tr>\n",
        "      <th>2002</th>\n",
        "      <td>25.023256</td>\n",
        "      <td>33.383861</td>\n",
        "    </tr>\n",
        "    <tr>\n",
        "      <th>2003</th>\n",
        "      <td>28.830703</td>\n",
        "      <td>37.606362</td>\n",
        "    </tr>\n",
        "    <tr>\n",
        "      <th>2004</th>\n",
        "      <td>38.265000</td>\n",
        "      <td>48.617617</td>\n",
        "    </tr>\n",
        "    <tr>\n",
        "      <th>2005</th>\n",
        "      <td>54.521089</td>\n",
        "      <td>67.001757</td>\n",
        "    </tr>\n",
        "    <tr>\n",
        "      <th>2006</th>\n",
        "      <td>65.144062</td>\n",
        "      <td>77.554717</td>\n",
        "    </tr>\n",
        "    <tr>\n",
        "      <th>2007</th>\n",
        "      <td>72.389078</td>\n",
        "      <td>83.793373</td>\n",
        "    </tr>\n",
        "    <tr>\n",
        "      <th>2008</th>\n",
        "      <td>97.255973</td>\n",
        "      <td>108.415184</td>\n",
        "    </tr>\n",
        "    <tr>\n",
        "      <th>2009</th>\n",
        "      <td>61.671265</td>\n",
        "      <td>68.992925</td>\n",
        "    </tr>\n",
        "    <tr>\n",
        "      <th>2010</th>\n",
        "      <td>79.495534</td>\n",
        "      <td>87.498095</td>\n",
        "    </tr>\n",
        "    <tr>\n",
        "      <th>2011</th>\n",
        "      <td>111.255598</td>\n",
        "      <td>118.708282</td>\n",
        "    </tr>\n",
        "    <tr>\n",
        "      <th>2012</th>\n",
        "      <td>111.669702</td>\n",
        "      <td>116.734367</td>\n",
        "    </tr>\n",
        "    <tr>\n",
        "      <th>2013</th>\n",
        "      <td>108.658518</td>\n",
        "      <td>111.946861</td>\n",
        "    </tr>\n",
        "    <tr>\n",
        "      <th>2014</th>\n",
        "      <td>98.946008</td>\n",
        "      <td>100.313153</td>\n",
        "    </tr>\n",
        "    <tr>\n",
        "      <th>2015</th>\n",
        "      <td>52.386759</td>\n",
        "      <td>53.047625</td>\n",
        "    </tr>\n",
        "    <tr>\n",
        "      <th>2016</th>\n",
        "      <td>43.734170</td>\n",
        "      <td>43.734170</td>\n",
        "    </tr>\n",
        "  </tbody>\n",
        "</table>\n",
        "<p>156 rows \u00d7 2 columns</p>\n",
        "</div>"
       ],
       "metadata": {},
       "output_type": "pyout",
       "prompt_number": 5,
       "text": [
        "      $ money of the day      $ 2016\n",
        "year                                \n",
        "1861            0.490000   13.035987\n",
        "1862            1.050000   25.140833\n",
        "1863            3.150000   61.153377\n",
        "1864            8.060000  123.182439\n",
        "1865            6.590000  102.905645\n",
        "1866            3.740000   61.056308\n",
        "1867            2.410000   41.217284\n",
        "1868            3.630000   65.186588\n",
        "1869            3.640000   65.366165\n",
        "1870            3.860000   72.965124\n",
        "1871            4.340000   86.596202\n",
        "1872            3.640000   72.629073\n",
        "1873            1.830000   36.514067\n",
        "1874            1.170000   24.718298\n",
        "1875            1.350000   29.385389\n",
        "1876            2.560000   57.464761\n",
        "1877            2.420000   54.322157\n",
        "1878            1.190000   29.475459\n",
        "1879            0.860000   22.062364\n",
        "1880            0.950000   23.530829\n",
        "1881            0.860000   21.301592\n",
        "1882            0.780000   19.320049\n",
        "1883            1.000000   25.653911\n",
        "1884            0.840000   22.347407\n",
        "1885            0.880000   23.411569\n",
        "1886            0.710000   18.888880\n",
        "1887            0.670000   17.824717\n",
        "1888            0.880000   23.411569\n",
        "1889            0.940000   25.007813\n",
        "1890            0.870000   23.145529\n",
        "...                  ...         ...\n",
        "1987           18.435039   38.948402\n",
        "1988           14.923842   30.277485\n",
        "1989           18.226113   35.277377\n",
        "1990           23.725820   43.568194\n",
        "1991           20.000914   35.249284\n",
        "1992           19.320837   33.051575\n",
        "1993           16.971634   28.189004\n",
        "1994           15.817626   25.615832\n",
        "1995           17.016680   26.798702\n",
        "1996           20.668488   31.616201\n",
        "1997           19.092588   28.550496\n",
        "1998           12.715661   18.722992\n",
        "1999           17.970078   25.888022\n",
        "2000           28.495449   39.716070\n",
        "2001           24.443891   33.126510\n",
        "2002           25.023256   33.383861\n",
        "2003           28.830703   37.606362\n",
        "2004           38.265000   48.617617\n",
        "2005           54.521089   67.001757\n",
        "2006           65.144062   77.554717\n",
        "2007           72.389078   83.793373\n",
        "2008           97.255973  108.415184\n",
        "2009           61.671265   68.992925\n",
        "2010           79.495534   87.498095\n",
        "2011          111.255598  118.708282\n",
        "2012          111.669702  116.734367\n",
        "2013          108.658518  111.946861\n",
        "2014           98.946008  100.313153\n",
        "2015           52.386759   53.047625\n",
        "2016           43.734170   43.734170\n",
        "\n",
        "[156 rows x 2 columns]"
       ]
      }
     ],
     "prompt_number": 5
    },
    {
     "cell_type": "code",
     "collapsed": false,
     "input": [
      "# Conversion factors for barrel of crude oil to litres and kWh\n",
      "L_per_barrel = 158.987\n",
      "kWh_per_barrel = 1628.2"
     ],
     "language": "python",
     "metadata": {},
     "outputs": [],
     "prompt_number": 6
    },
    {
     "cell_type": "code",
     "collapsed": false,
     "input": [
      "# Create a data series of oil-price per litre\n",
      "oilprice_per_L = table_oilprice['$ 2016'] / L_per_barrel\n",
      "oilprice_per_L.name = 'dollars_per_L_2016'"
     ],
     "language": "python",
     "metadata": {},
     "outputs": [],
     "prompt_number": 7
    },
    {
     "cell_type": "code",
     "collapsed": false,
     "input": [
      "# Export data to CSV\n",
      "oilprice_per_L.to_csv('crude-oil-price-inflation-corrected.csv', sep='\\t', header=True)"
     ],
     "language": "python",
     "metadata": {},
     "outputs": [],
     "prompt_number": 8
    },
    {
     "cell_type": "code",
     "collapsed": false,
     "input": [
      "# Switch to inline plotting\n",
      "get_ipython().magic('pylab inline')"
     ],
     "language": "python",
     "metadata": {},
     "outputs": [
      {
       "output_type": "stream",
       "stream": "stdout",
       "text": [
        "Populating the interactive namespace from numpy and matplotlib\n"
       ]
      }
     ],
     "prompt_number": 9
    },
    {
     "cell_type": "code",
     "collapsed": false,
     "input": [
      "# Load matplotlib for data plotting/exploration\n",
      "import matplotlib\n",
      "matplotlib.style.use('ggplot')\n",
      "import matplotlib.pyplot as plt"
     ],
     "language": "python",
     "metadata": {},
     "outputs": [],
     "prompt_number": 10
    },
    {
     "cell_type": "code",
     "collapsed": false,
     "input": [
      "# Plot oil-price per litre, in 2016 US dollars\n",
      "oilprice_plot = oilprice_per_L.plot()\n",
      "oilprice_plot.set_ylabel('2016 US dollars per litre');"
     ],
     "language": "python",
     "metadata": {},
     "outputs": [
      {
       "metadata": {},
       "output_type": "display_data",
       "png": "[encoded data removed]",
       "text": [
        "<matplotlib.figure.Figure at 0x7fc79e292860>"
       ]
      }
     ],
     "prompt_number": 11
    },
    {
     "cell_type": "code",
     "collapsed": false,
     "input": [
      "# Global oil price in real US dollars per kWh\n",
      "oilprice_per_kWh = table_oilprice['$ money of the day'] / kWh_per_barrel\n",
      "oilprice_per_kWh.name = 'crude oil ($ per kWh)'"
     ],
     "language": "python",
     "metadata": {},
     "outputs": [],
     "prompt_number": 12
    },
    {
     "cell_type": "code",
     "collapsed": false,
     "input": [
      "# Gas prices are a bit more complicated, as there seems to be no measure that accurately reflects historical global prices\n",
      "# See: http://www.bp.com/en/global/corporate/energy-economics/statistical-review-of-world-energy/natural-gas/natural-gas-prices.html\n",
      "# I will use the Henry Hub price in US dollars per million BTU, which seems to reflect US gas prices (but not necessarily global ones)\n",
      "\n",
      "table_gasprice = file_bpstat.parse('Gas - Prices ', header=1, skiprows=2, na_values='-',index_col=0)\n",
      "table_gasprice.index.name = 'year'\n",
      "gasprice_US_per_MBTU = pd.to_numeric(table_gasprice['US'], errors='coerce').dropna()"
     ],
     "language": "python",
     "metadata": {},
     "outputs": [],
     "prompt_number": 13
    },
    {
     "cell_type": "code",
     "collapsed": false,
     "input": [
      "# Conversion factor for million BTU to kWh\n",
      "kWh_per_MBTU = 293.07107"
     ],
     "language": "python",
     "metadata": {},
     "outputs": [],
     "prompt_number": 14
    },
    {
     "cell_type": "code",
     "collapsed": false,
     "input": [
      "# US natural gas price in US dollars per kWh \n",
      "gasprice_US_per_kWh = gasprice_US_per_MBTU / kWh_per_MBTU\n",
      "gasprice_US_per_kWh.name = 'US natural gas ($ per kWh)'"
     ],
     "language": "python",
     "metadata": {},
     "outputs": [],
     "prompt_number": 15
    },
    {
     "cell_type": "code",
     "collapsed": false,
     "input": [
      "# Coal prices are also not standardized globally, so I will use the US Central Appalachian coal spot price index\n",
      "\n",
      "table_coalprice = file_bpstat.parse('Coal - Prices', header=1, skiprows=0, na_values='-',index_col=0)\n",
      "table_coalprice.index.name = 'year'\n",
      "coalprice_US_per_tonne = table_coalprice['US Central Appalachian coal spot price index \u2021'].dropna()"
     ],
     "language": "python",
     "metadata": {},
     "outputs": [],
     "prompt_number": 16
    },
    {
     "cell_type": "code",
     "collapsed": false,
     "input": [
      "# Conversion factor for tonne to kWh\n",
      "# This figure assumes an average heat content of 20.5 million BTU per tonne of coal used in the US in the period 1987-2015\n",
      "# Source: EIA Monthly Energy Review, January 2017, appendix A5, http://www.eia.gov/totalenergy/data/monthly/#appendices\n",
      "# Source data in Excel: http://www.eia.gov/totalenergy/data/browser/xls.cfm?tbl=TA5&freq=a\n",
      "kWh_per_tonne = 20.5 * kWh_per_MBTU"
     ],
     "language": "python",
     "metadata": {},
     "outputs": [],
     "prompt_number": 17
    },
    {
     "cell_type": "code",
     "collapsed": false,
     "input": [
      "# US coal price in US dollars per kWh \n",
      "coalprice_US_per_kWh = coalprice_US_per_tonne / kWh_per_tonne\n",
      "coalprice_US_per_kWh.name = 'US coal ($ per kWh)'"
     ],
     "language": "python",
     "metadata": {},
     "outputs": [],
     "prompt_number": 18
    },
    {
     "cell_type": "code",
     "collapsed": false,
     "input": [
      "# Prices in US dollarcents per kWh for all three fuels in one handy table\n",
      "fuelprice_cents_per_kWh = pd.DataFrame({'crude oil':oilprice_per_kWh}) * 100\n",
      "fuelprice_cents_per_kWh['natural gas (US)'] = gasprice_US_per_kWh * 100\n",
      "fuelprice_cents_per_kWh['coal (US)'] = coalprice_US_per_kWh * 100\n",
      "fuelprice_cents_per_kWh.index = pd.to_numeric(fuelprice_cents_per_kWh.index)"
     ],
     "language": "python",
     "metadata": {},
     "outputs": [],
     "prompt_number": 19
    },
    {
     "cell_type": "code",
     "collapsed": false,
     "input": [
      "# Plot fuel-prices in real dollarcents per kWh\n",
      "fuelprice_fig = plt.figure(figsize=(10,6), dpi=100)\n",
      "fuelprice_ax = fuelprice_fig.add_subplot(1,1,1)\n",
      "fuelprice_cents_per_kWh.ix[1970:].plot(ax = fuelprice_ax)\n",
      "fuelprice_ax.set_ylabel('US dollarcents per kWh');"
     ],
     "language": "python",
     "metadata": {},
     "outputs": [
      {
       "metadata": {},
       "output_type": "display_data",
       "png": "[encoded data removed]",
       "text": [
        "<matplotlib.figure.Figure at 0x7fc79b880f98>"
       ]
      }
     ],
     "prompt_number": 20
    },
    {
     "cell_type": "code",
     "collapsed": false,
     "input": [
      "# Save plot as PNG and SVG\n",
      "fuelprice_fig.savefig('fuelprices-1970-2016.png')\n",
      "fuelprice_fig.savefig('fuelprices-1970-2016.svg')"
     ],
     "language": "python",
     "metadata": {},
     "outputs": [],
     "prompt_number": 21
    }
   ],
   "metadata": {}
  }
 ]
}